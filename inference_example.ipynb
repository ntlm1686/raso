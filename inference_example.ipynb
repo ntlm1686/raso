{
 "cells": [
  {
   "cell_type": "code",
   "execution_count": 1,
   "metadata": {},
   "outputs": [
    {
     "name": "stderr",
     "output_type": "stream",
     "text": [
      "BertLMHeadModel has generative capabilities, as `prepare_inputs_for_generation` is explicitly overwritten. However, it doesn't directly inherit from `GenerationMixin`. From 👉v4.50👈 onwards, `PreTrainedModel` will NOT inherit from `GenerationMixin`, and this model will lose the ability to call `generate` and other related functions.\n",
      "  - If you're using `trust_remote_code=True`, you can get rid of this warning by loading the model with an auto class. See https://huggingface.co/docs/transformers/en/model_doc/auto#auto-classes\n",
      "  - If you are the owner of the model architecture code, please modify your model class such that it inherits from `GenerationMixin` (after `PreTrainedModel`, otherwise you'll get an exception).\n",
      "  - If you are not the owner of the model architecture class, please contact the model code owner to update it.\n",
      "The new embeddings will be initialized from a multivariate normal distribution that has old embeddings' mean and covariance. As described in this article: https://nlp.stanford.edu/~johnhew/vocab-expansion.html. To disable this, use `mean_resizing=False`\n"
     ]
    },
    {
     "name": "stdout",
     "output_type": "stream",
     "text": [
      "/encoder/layer/0/crossattention/self/query is tied\n",
      "/encoder/layer/0/crossattention/self/key is tied\n",
      "/encoder/layer/0/crossattention/self/value is tied\n",
      "/encoder/layer/0/crossattention/output/dense is tied\n",
      "/encoder/layer/0/crossattention/output/LayerNorm is tied\n",
      "/encoder/layer/0/intermediate/dense is tied\n",
      "/encoder/layer/0/output/dense is tied\n",
      "/encoder/layer/0/output/LayerNorm is tied\n",
      "/encoder/layer/1/crossattention/self/query is tied\n",
      "/encoder/layer/1/crossattention/self/key is tied\n",
      "/encoder/layer/1/crossattention/self/value is tied\n",
      "/encoder/layer/1/crossattention/output/dense is tied\n",
      "/encoder/layer/1/crossattention/output/LayerNorm is tied\n",
      "/encoder/layer/1/intermediate/dense is tied\n",
      "/encoder/layer/1/output/dense is tied\n",
      "/encoder/layer/1/output/LayerNorm is tied\n",
      "--------------\n",
      "./MODEL/raso_zeroshot.pth\n",
      "--------------\n",
      "load checkpoint from ./MODEL/raso_zeroshot.pth\n"
     ]
    }
   ],
   "source": [
    "import os\n",
    "import sys\n",
    "import torch\n",
    "from PIL import Image\n",
    "\n",
    "sys.path.append(\"./\")\n",
    "\n",
    "PRETRAINED = './MODEL/raso_zeroshot.pth'\n",
    "\n",
    "from raso.models import raso\n",
    "from raso import inference_ram as inference\n",
    "from raso import get_transform\n",
    "\n",
    "\n",
    "def get_model(path, device):\n",
    "    transform = get_transform(image_size=384)\n",
    "    #######load model\n",
    "    model = raso(pretrained=path,\n",
    "                        image_size=384,\n",
    "                        vit='swin_l')\n",
    "    model.eval()\n",
    "    model = model.to(device)\n",
    "    return model, transform\n",
    "\n",
    "device = torch.device(\"cuda:0\" if torch.cuda.is_available() else \"cpu\")\n",
    "model, transform = get_model(PRETRAINED, device)"
   ]
  },
  {
   "cell_type": "code",
   "execution_count": null,
   "metadata": {},
   "outputs": [
    {
     "name": "stdout",
     "output_type": "stream",
     "text": [
      "Results with default threshold (0.65): bile duct | dissector | gallbladder | grasper | grasping forceps | liver | retractor | laparoscopic grasper | common bile duct | laparoscopic dissector | laparoscopic instrument\n",
      "Results with threshold 0.75: dissector | gallbladder | grasper | liver | laparoscopic grasper\n"
     ]
    }
   ],
   "source": [
    "test_image = \"./examples/img_01.png\"\n",
    "image_pil = Image.open(test_image)\n",
    "image = transform(image_pil).unsqueeze(0).to(device)\n",
    "\n",
    "res = inference(image, model) # using default threshold 0.65\n",
    "print(\"Results with default threshold (0.65):\", res[0])\n",
    "\n",
    "# to change a different threshold\n",
    "model.class_threshold = torch.tensor([0.75] * 2066).to(model.class_threshold.device)\n",
    "res = inference(image, model) # using threshold 0.75\n",
    "print(\"Results with threshold 0.75:\", res[0])"
   ]
  }
 ],
 "metadata": {
  "kernelspec": {
   "display_name": "raso",
   "language": "python",
   "name": "python3"
  },
  "language_info": {
   "codemirror_mode": {
    "name": "ipython",
    "version": 3
   },
   "file_extension": ".py",
   "mimetype": "text/x-python",
   "name": "python",
   "nbconvert_exporter": "python",
   "pygments_lexer": "ipython3",
   "version": "3.11.11"
  }
 },
 "nbformat": 4,
 "nbformat_minor": 2
}
